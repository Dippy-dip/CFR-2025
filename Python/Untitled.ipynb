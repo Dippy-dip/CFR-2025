{
 "cells": [
  {
   "cell_type": "markdown",
   "id": "71e64e81-94b9-49b2-b06a-e0c4c54e7120",
   "metadata": {},
   "source": [
    "Review\n",
    "\n",
    " # A variable is like a storage box to hold information.\n",
    " # Whenever you wanto refer to that information, just call the name of the variable."
   ]
  },
  {
   "cell_type": "code",
   "execution_count": null,
   "id": "f99a97a4-90ff-40bb-8cd4-c9d03e648730",
   "metadata": {},
   "outputs": [],
   "source": [
    "\n",
    "name = 'Gabby'     #string\n",
    "age = 20           #integer\n",
    "is_student = True  #booLean"
   ]
  },
  {
   "cell_type": "code",
   "execution_count": 5,
   "id": "4996fe28-41ee-48c3-8feb-bb3f4a5ad598",
   "metadata": {},
   "outputs": [
    {
     "ename": "IndentationError",
     "evalue": "unexpected indent (1419248345.py, line 8)",
     "output_type": "error",
     "traceback": [
      "\u001b[1;36m  Cell \u001b[1;32mIn[5], line 8\u001b[1;36m\u001b[0m\n\u001b[1;33m    print(\"They are equal!\")\u001b[0m\n\u001b[1;37m    ^\u001b[0m\n\u001b[1;31mIndentationError\u001b[0m\u001b[1;31m:\u001b[0m unexpected indent\n"
     ]
    }
   ],
   "source": [
    "# The difference between = and ==:\n",
    "\n",
    "x = 20   #is an assignment operater, so it assings a value. It means \"x is now 20\".\n",
    "\n",
    "y = 12\n",
    "\n",
    "# ==y:\n",
    "    print(\"They are equal!\")\n",
    "else \n",
    "    print(\"They are not equal.\")"
   ]
  },
  {
   "cell_type": "code",
   "execution_count": 4,
   "id": "e0f16016-024e-46de-8dfe-e5bede27e318",
   "metadata": {},
   "outputs": [
    {
     "name": "stdout",
     "output_type": "stream",
     "text": [
      "HelloDarius\n",
      "Hello Darius\n",
      "Hello Darius\n"
     ]
    }
   ],
   "source": [
    "# How to print variables in a statement\n",
    "\n",
    "name = \"Darius\"\n",
    "\n",
    "# You can use + or, to join strings and variable in a print statement\n",
    "print(\"Hello\" + name) # With +, you have to add a space\n",
    "print(\"Hello\", name) # With, it adds space in between for you\n",
    "print(\"Hello Darius\")\n"
   ]
  },
  {
   "cell_type": "markdown",
   "id": "60a0dc00-79c1-42bb-bff0-15f27d579ef1",
   "metadata": {},
   "source": [
    "If Statemants"
   ]
  },
  {
   "cell_type": "markdown",
   "id": "175a4718-f077-4203-9914-0207f98a0f51",
   "metadata": {},
   "source": [
    "If statements and conditional let your code make decisions.\n",
    "\n",
    "If a codition is true , run this part of code\n",
    "\n",
    "If it is false, run a differnt part of code."
   ]
  },
  {
   "cell_type": "code",
   "execution_count": 3,
   "id": "1424d9a1-19b6-48c7-b6cd-65ed59cf12a8",
   "metadata": {},
   "outputs": [
    {
     "ename": "SyntaxError",
     "evalue": "invalid syntax (3569382564.py, line 1)",
     "output_type": "error",
     "traceback": [
      "\u001b[1;36m  Cell \u001b[1;32mIn[3], line 1\u001b[1;36m\u001b[0m\n\u001b[1;33m    If condition:\u001b[0m\n\u001b[1;37m       ^\u001b[0m\n\u001b[1;31mSyntaxError\u001b[0m\u001b[1;31m:\u001b[0m invalid syntax\n"
     ]
    }
   ],
   "source": [
    "If condition:\n",
    "    # code if this condition is true will run \n",
    "    # second line I want to run. --this must be indented\n",
    "elif another_condition:\n",
    "    # code if first condition is false, and this other condition is true wil run\n",
    "else:\n",
    "    # code if none of the above are true"
   ]
  },
  {
   "cell_type": "markdown",
   "id": "37e55d56-acbe-41eb-9f1d-ceed5fdd2f6c",
   "metadata": {},
   "source": [
    "# Nested if statements (if inside of if):"
   ]
  },
  {
   "cell_type": "code",
   "execution_count": null,
   "id": "06141a08-2416-4158-adfb-b7f01649007a",
   "metadata": {},
   "outputs": [],
   "source": [
    "if condition:\n",
    "    if condition:\n",
    "        # code willrun if Both if statements are true.\n",
    "else:\n",
    "    # code will run if first if statement is not true."
   ]
  },
  {
   "cell_type": "code",
   "execution_count": 2,
   "id": "0f430a7f-4d00-4480-964b-eb88538bac02",
   "metadata": {},
   "outputs": [
    {
     "name": "stdout",
     "output_type": "stream",
     "text": [
      "It's nice.\n"
     ]
    }
   ],
   "source": [
    "# example with nummbers\n",
    "\n",
    "temperture = 70\n",
    "\n",
    "if temperture > 85:\n",
    "    print(\"It's hot!\")\n",
    "elif temperture >= 60:\n",
    "    print(\"It's nice.\")\n",
    "else :\n",
    "    print(\"It's cold\")"
   ]
  },
  {
   "cell_type": "markdown",
   "id": "b4446364-6dcf-444e-a259-1f4979f89943",
   "metadata": {},
   "source": [
    "# Different Symbols:"
   ]
  },
  {
   "cell_type": "code",
   "execution_count": null,
   "id": "72085b74-f834-4457-beb8-2ddbcf587f15",
   "metadata": {},
   "outputs": [],
   "source": [
    "> is greater than\n",
    "< is less than\n",
    ">= is greater than or equal\n",
    "<= is less than or equal\n",
    "% modulus ... tells you the remainder after dividing\n",
    "    5 % 2 = 1\n",
    "    4 % 2 = 0\n",
    "== is equal to\n",
    "!= is not equal to\n",
    "& and \n",
    "| or\n"
   ]
  },
  {
   "cell_type": "markdown",
   "id": "c4285d70-4157-4e7f-ad08-34af5afd5ba6",
   "metadata": {},
   "source": [
    "# Example problem\n"
   ]
  },
  {
   "cell_type": "code",
   "execution_count": 10,
   "id": "1cca9349-e023-40f2-b276-ccd8b1cb15b4",
   "metadata": {},
   "outputs": [
    {
     "name": "stdout",
     "output_type": "stream",
     "text": [
      "B\n",
      "85\n"
     ]
    }
   ],
   "source": [
    "\n",
    "grade = 85\n",
    "\n",
    "if grade >=90:\n",
    "    print('A')\n",
    "elif grade >=80:\n",
    "    print('B')\n",
    "elif grade >=70:\n",
    "    print('C')\n",
    "else:\n",
    "    print('F')\n",
    "\n",
    "print(grade)\n",
    "\n"
   ]
  },
  {
   "cell_type": "markdown",
   "id": "ce91a896-05f2-4be8-816b-293854fcfd8a",
   "metadata": {},
   "source": [
    "# While Loop\n",
    "\n",
    "While loops basically tel the computer to run a piece of code as long as a certain condition is true.\n",
    "Think of it like. \"keep doing this code while this is true."
   ]
  },
  {
   "cell_type": "code",
   "execution_count": null,
   "id": "33ae7599-8a5d-4e75-97bf-8442c08768b3",
   "metadata": {},
   "outputs": [],
   "source": [
    "count = 1\n",
    "\n",
    "while count <= 5\n"
   ]
  },
  {
   "cell_type": "code",
   "execution_count": null,
   "id": "62fcf65c-b4d9-4cd1-8082-7950b7347678",
   "metadata": {},
   "outputs": [],
   "source": [
    "password = \"hello\"\n",
    "\n",
    "while password != \"hello\"\n",
    "     password = input(\"Enter the password\")\n",
    "    print(\"Incorrect\")\n",
    "print(\"Access granted\")"
   ]
  },
  {
   "cell_type": "markdown",
   "id": "4da6c335-775a-4bf1-9c5a-b96c33338ef4",
   "metadata": {},
   "source": [
    "# For Loops"
   ]
  },
  {
   "cell_type": "markdown",
   "id": "b7e047ba-94e7-4162-9aef-c2ada2619e15",
   "metadata": {},
   "source": [
    "similar to a while loop in the sense that it repeats code.\n",
    "A for loop goes through items in a list or range, and runs code for each item."
   ]
  },
  {
   "cell_type": "code",
   "execution_count": 13,
   "id": "c173b120-5c66-4749-b94f-4f43e2ab30eb",
   "metadata": {},
   "outputs": [
    {
     "name": "stdout",
     "output_type": "stream",
     "text": [
      "I like apple\n",
      "I like orange\n",
      "I like banana\n"
     ]
    }
   ],
   "source": [
    "fruit = [\"apple\", \"orange\", \"banana\"]\n",
    "\n",
    "for fruit in fruit: \n",
    "    print (\"I like\", fruit)"
   ]
  },
  {
   "cell_type": "code",
   "execution_count": null,
   "id": "4498decd-d89d-4b52-96c6-37c49adc1118",
   "metadata": {},
   "outputs": [],
   "source": [
    "Second way: usuing ragne function.\n",
    "range(n) gives you a list of numbers"
   ]
  },
  {
   "cell_type": "markdown",
   "id": "6ce85e1c-d92c-478b-8045-9bb476871fac",
   "metadata": {},
   "source": [
    "for num in range(5):\n",
    "    print(num)"
   ]
  },
  {
   "cell_type": "markdown",
   "id": "829d6a20-360c-4a3f-8594-609608278615",
   "metadata": {},
   "source": [
    "Third way: using range function but choosing where to start and stop.\n",
    "range(start,stop)"
   ]
  },
  {
   "cell_type": "code",
   "execution_count": null,
   "id": "91cb0588-46bc-469e-bebe-78a79b4780d6",
   "metadata": {},
   "outputs": [],
   "source": [
    "for x in range(4):\n",
    "    print()"
   ]
  },
  {
   "cell_type": "markdown",
   "id": "fdb5c438-4501-4e1e-8a33-fe1421decd79",
   "metadata": {},
   "source": [
    "fourth way to use functions range(start, stop, step):"
   ]
  },
  {
   "cell_type": "code",
   "execution_count": 17,
   "id": "3572adfa-2bb0-4001-9aad-f2848dafdabe",
   "metadata": {},
   "outputs": [
    {
     "name": "stdout",
     "output_type": "stream",
     "text": [
      "2\n",
      "4\n",
      "6\n",
      "8\n",
      "10\n"
     ]
    }
   ],
   "source": [
    "for x in  range(2, 11, 2):\n",
    "    print(x)"
   ]
  },
  {
   "cell_type": "markdown",
   "id": "2d849d27-6e21-420d-aaad-88488b6fcbc0",
   "metadata": {},
   "source": [
    "# Functions"
   ]
  },
  {
   "cell_type": "code",
   "execution_count": 19,
   "id": "3d039016-8187-499d-af10-3a8fad477a7f",
   "metadata": {},
   "outputs": [],
   "source": [
    "# create function\n",
    "def say_hello():\n",
    "    print(\"Hello!\")"
   ]
  },
  {
   "cell_type": "code",
   "execution_count": 20,
   "id": "cce7aed5-0d17-4c6d-a788-b5f321a353d8",
   "metadata": {},
   "outputs": [
    {
     "name": "stdout",
     "output_type": "stream",
     "text": [
      "Hello!\n",
      "None\n"
     ]
    }
   ],
   "source": [
    "# use function\n",
    "print (say_hello())"
   ]
  },
  {
   "cell_type": "code",
   "execution_count": 25,
   "id": "c8da1f56-796d-49a3-9b3f-b69970d6eca9",
   "metadata": {},
   "outputs": [],
   "source": [
    "# create a function\n",
    "def greet(name):\n",
    "    greeting = \"Hi \" + name + \"! welcome.\"\n",
    "    return greeting\n",
    "\n",
    "\n"
   ]
  },
  {
   "cell_type": "code",
   "execution_count": 26,
   "id": "0ee4b2f8-b940-4ded-8d95-434ae7635f07",
   "metadata": {},
   "outputs": [
    {
     "name": "stdout",
     "output_type": "stream",
     "text": [
      "Hi Dip! welcome.\n"
     ]
    }
   ],
   "source": [
    "# call the function\n",
    "print(greet(\"Dip\"))"
   ]
  },
  {
   "cell_type": "code",
   "execution_count": 27,
   "id": "839ee0df-6896-48ab-97eb-4b0bc82b9bde",
   "metadata": {},
   "outputs": [],
   "source": [
    "def is_even(number):\n",
    "    if number % 2 == 0:  # mod 2 means the remainder when dividing by 2\n",
    "        return True\n",
    "    else:\n",
    "        return false"
   ]
  },
  {
   "cell_type": "code",
   "execution_count": 41,
   "id": "1f6d02e6-b75c-4d3b-ae56-78bf283e45d3",
   "metadata": {},
   "outputs": [
    {
     "ename": "TypeError",
     "evalue": "is_even() missing 1 required positional argument: 'number'",
     "output_type": "error",
     "traceback": [
      "\u001b[1;31m---------------------------------------------------------------------------\u001b[0m",
      "\u001b[1;31mTypeError\u001b[0m                                 Traceback (most recent call last)",
      "Cell \u001b[1;32mIn[41], line 3\u001b[0m\n\u001b[0;32m      1\u001b[0m \u001b[38;5;66;03m# Using the fucntion\u001b[39;00m\n\u001b[1;32m----> 3\u001b[0m \u001b[38;5;28mprint\u001b[39m(is_even())\n\u001b[0;32m      5\u001b[0m \u001b[38;5;66;03m# Can be put into a variable first\u001b[39;00m\n\u001b[0;32m      6\u001b[0m is_33_even \u001b[38;5;241m=\u001b[39m is_even(\u001b[38;5;241m33\u001b[39m)\n",
      "\u001b[1;31mTypeError\u001b[0m: is_even() missing 1 required positional argument: 'number'"
     ]
    }
   ],
   "source": [
    "# Using the fucntion\n",
    "\n",
    "print(is_even())\n",
    "\n",
    "# Can be put into a variable first\n",
    "is_33_even = is_even(33)\n",
    "print(is_even(33))"
   ]
  },
  {
   "cell_type": "markdown",
   "id": "ebfa8dee-0864-4ea7-a27e-23d5a214daa3",
   "metadata": {},
   "source": [
    "# Numpy Library"
   ]
  },
  {
   "cell_type": "markdown",
   "id": "9fc9373c-2ddf-41f6-af39-98703036b642",
   "metadata": {},
   "source": [
    "Numpy is a helpful library when you are working with numberw and arrays."
   ]
  },
  {
   "cell_type": "code",
   "execution_count": 37,
   "id": "518e4aff-5b0c-476d-9b1b-a8ec1dd6b47e",
   "metadata": {},
   "outputs": [],
   "source": [
    "import numpy as np"
   ]
  },
  {
   "cell_type": "markdown",
   "id": "473e4e51-ca4e-4b7f-a16f-3ebafaa82a86",
   "metadata": {},
   "source": [
    "Arrays:"
   ]
  },
  {
   "cell_type": "code",
   "execution_count": 47,
   "id": "3360c970-5956-4f7c-95db-5692af571648",
   "metadata": {},
   "outputs": [
    {
     "ename": "TypeError",
     "evalue": "array() takes from 1 to 2 positional arguments but 5 were given",
     "output_type": "error",
     "traceback": [
      "\u001b[1;31m---------------------------------------------------------------------------\u001b[0m",
      "\u001b[1;31mTypeError\u001b[0m                                 Traceback (most recent call last)",
      "Cell \u001b[1;32mIn[47], line 1\u001b[0m\n\u001b[1;32m----> 1\u001b[0m my_array \u001b[38;5;241m=\u001b[39m np\u001b[38;5;241m.\u001b[39marray(\u001b[38;5;241m0\u001b[39m,\u001b[38;5;241m1\u001b[39m,\u001b[38;5;241m2\u001b[39m,\u001b[38;5;241m3\u001b[39m,\u001b[38;5;241m4\u001b[39m,)\n\u001b[0;32m      2\u001b[0m \u001b[38;5;28mprint\u001b[39m(my_array)\n",
      "\u001b[1;31mTypeError\u001b[0m: array() takes from 1 to 2 positional arguments but 5 were given"
     ]
    }
   ],
   "source": [
    "my_array = np.array(0,1,2,3,4,)\n",
    "print(my_array)"
   ]
  },
  {
   "cell_type": "code",
   "execution_count": 48,
   "id": "4656491e-7c3c-443a-afc5-a05417d04f5d",
   "metadata": {},
   "outputs": [],
   "source": [
    "my_2D_array = np.zeros((3, 4))"
   ]
  },
  {
   "cell_type": "code",
   "execution_count": 45,
   "id": "1e3bb3a3-587d-445b-a28b-a3f107af948e",
   "metadata": {},
   "outputs": [
    {
     "name": "stdout",
     "output_type": "stream",
     "text": [
      "[[0. 0. 0. 0.]\n",
      " [0. 0. 0. 0.]\n",
      " [0. 0. 0. 0.]]\n"
     ]
    }
   ],
   "source": [
    "print(my_2D_array)"
   ]
  },
  {
   "cell_type": "markdown",
   "id": "b16108f0-7f06-44d3-b776-4c5b4049a933",
   "metadata": {},
   "source": [
    "To generate a randon number, we use the random.randit(a,b) function.\n",
    "gerates a random number from a to b."
   ]
  },
  {
   "cell_type": "code",
   "execution_count": null,
   "id": "0112a4b0-29b9-48e7-9a7e-f08a2211c105",
   "metadata": {},
   "outputs": [],
   "source": []
  },
  {
   "cell_type": "markdown",
   "id": "68c84214-a420-4570-9df0-95ce0300fe36",
   "metadata": {},
   "source": [
    "To generate a randon choice from a list, we use the random.choice(list)"
   ]
  },
  {
   "cell_type": "markdown",
   "id": "27d87b9a-7e02-4459-a742-e770d3f8a8d6",
   "metadata": {},
   "source": [
    "# Matplotlib"
   ]
  },
  {
   "cell_type": "markdown",
   "id": "101d6363-51a4-445e-9244-9548ee74867a",
   "metadata": {},
   "source": [
    "A specific library that people use to make plots and graphs\n",
    "we have been using pyplot section of Matplotlib."
   ]
  },
  {
   "cell_type": "code",
   "execution_count": 49,
   "id": "79efcf55-a400-4dc9-89a2-bd5f2865da31",
   "metadata": {},
   "outputs": [],
   "source": [
    "import matplotlib.pyplot as plt"
   ]
  },
  {
   "cell_type": "code",
   "execution_count": 50,
   "id": "ff4f2aaa-813a-4fc4-b07d-6302d88f44cf",
   "metadata": {},
   "outputs": [
    {
     "data": {
      "text/plain": [
       "Text(0, 0.5, 'Y values')"
      ]
     },
     "execution_count": 50,
     "metadata": {},
     "output_type": "execute_result"
    },
    {
     "data": {
      "image/png": "[encoded data removed]",
      "text/plain": [
       "<Figure size 640x480 with 1 Axes>"
      ]
     },
     "metadata": {},
     "output_type": "display_data"
    }
   ],
   "source": [
    "list_1 = [1, 2, 3, 4]\n",
    "list_2 = [10, 20, 30, 40]\n",
    "\n",
    "plt.plot(list_1, list_2) #create a plot\n",
    "plt.title(\"My fisrt plot\")\n",
    "plt.xlabel(\"X values\")\n",
    "plt.ylabel(\"Y values\")"
   ]
  },
  {
   "cell_type": "code",
   "execution_count": null,
   "id": "26416456-4755-43a8-8816-5482e7a19870",
   "metadata": {},
   "outputs": [],
   "source": []
  }
 ],
 "metadata": {
  "kernelspec": {
   "display_name": "Python 3 (ipykernel)",
   "language": "python",
   "name": "python3"
  },
  "language_info": {
   "codemirror_mode": {
    "name": "ipython",
    "version": 3
   },
   "file_extension": ".py",
   "mimetype": "text/x-python",
   "name": "python",
   "nbconvert_exporter": "python",
   "pygments_lexer": "ipython3",
   "version": "3.12.7"
  }
 },
 "nbformat": 4,
 "nbformat_minor": 5
}
